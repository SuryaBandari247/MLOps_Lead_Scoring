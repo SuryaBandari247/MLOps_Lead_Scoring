{
 "cells": [
  {
   "cell_type": "code",
   "execution_count": 1,
   "id": "b04aaad9-0912-4812-a5fe-2369867d572d",
   "metadata": {},
   "outputs": [],
   "source": [
    "import test_with_pytest\n",
    "import utils\n",
    "import sqlite3\n",
    "import pandas as pd\n",
    "\n",
    "import warnings\n",
    "warnings.filterwarnings('ignore')"
   ]
  },
  {
   "cell_type": "markdown",
   "id": "55d8318d-5ab7-4f51-bbb4-a6f307018df8",
   "metadata": {},
   "source": [
    "import importlib\n",
    "importlib.reload(test_with_pytest)"
   ]
  },
  {
   "cell_type": "markdown",
   "id": "28135615-df05-431a-af25-841e52e59f0b",
   "metadata": {},
   "source": [
    "conn = sqlite3.connect('/home/Assignment/01_data_pipeline/scripts/unit_test/unit_test_cases.db')\n",
    "\n",
    "cursor = conn.cursor() \n",
    "cursor.execute(\"SELECT name FROM sqlite_master\") \n",
    "result = cursor.fetchone()\n",
    "print(result)\n",
    "conn.close()"
   ]
  },
  {
   "cell_type": "code",
   "execution_count": 2,
   "id": "2776ebeb-8130-47d0-a5f6-1d3f2e8233fc",
   "metadata": {},
   "outputs": [
    {
     "name": "stdout",
     "output_type": "stream",
     "text": [
      "load_data_into_db completed\n",
      "/home/Assignment/01_data_pipeline/scripts/unit_test/utils_output.db\n"
     ]
    }
   ],
   "source": [
    "test_with_pytest.test_load_data_into_db()"
   ]
  },
  {
   "cell_type": "code",
   "execution_count": 3,
   "id": "96fa0083-8ddd-45f1-9225-e83515637d4b",
   "metadata": {},
   "outputs": [
    {
     "name": "stdout",
     "output_type": "stream",
     "text": [
      "map_city_tier completed\n",
      "Index(['created_date', 'first_platform_c', 'first_utm_medium_c',\n",
      "       'first_utm_source_c', 'total_leads_droppped', 'referred_lead',\n",
      "       '1_on_1_industry_mentorship', 'call_us_button_clicked',\n",
      "       'career_assistance', 'career_coach', 'career_impact', 'careers',\n",
      "       'chat_clicked', 'companies', 'download_button_clicked',\n",
      "       'download_syllabus', 'emi_partner_click', 'emi_plans_clicked',\n",
      "       'fee_component_click', 'hiring_partners',\n",
      "       'homepage_upgrad_support_number_clicked',\n",
      "       'industry_projects_case_studies', 'live_chat_button_clicked',\n",
      "       'payment_amount_toggle_mover', 'placement_support',\n",
      "       'placement_support_banner_tab_clicked', 'program_structure',\n",
      "       'programme_curriculum', 'programme_faculty',\n",
      "       'request_callback_on_instant_customer_support_cta_clicked',\n",
      "       'shorts_entry_click', 'social_referral_click',\n",
      "       'specialisation_tab_clicked', 'specializations', 'specilization_click',\n",
      "       'syllabus', 'syllabus_expand', 'syllabus_submodule_expand',\n",
      "       'tab_career_assistance', 'tab_job_opportunities', 'tab_student_support',\n",
      "       'view_programs_page', 'whatsapp_chat_click', 'app_complete_flag',\n",
      "       'city_tier'],\n",
      "      dtype='object')\n",
      "Index(['created_date', 'first_platform_c', 'first_utm_medium_c',\n",
      "       'first_utm_source_c', 'total_leads_droppped', 'referred_lead',\n",
      "       '1_on_1_industry_mentorship', 'call_us_button_clicked',\n",
      "       'career_assistance', 'career_coach', 'career_impact', 'careers',\n",
      "       'chat_clicked', 'companies', 'download_button_clicked',\n",
      "       'download_syllabus', 'emi_partner_click', 'emi_plans_clicked',\n",
      "       'fee_component_click', 'hiring_partners',\n",
      "       'homepage_upgrad_support_number_clicked',\n",
      "       'industry_projects_case_studies', 'live_chat_button_clicked',\n",
      "       'payment_amount_toggle_mover', 'placement_support',\n",
      "       'placement_support_banner_tab_clicked', 'program_structure',\n",
      "       'programme_curriculum', 'programme_faculty',\n",
      "       'request_callback_on_instant_customer_support_cta_clicked',\n",
      "       'shorts_entry_click', 'social_referral_click',\n",
      "       'specialisation_tab_clicked', 'specializations', 'specilization_click',\n",
      "       'syllabus', 'syllabus_expand', 'syllabus_submodule_expand',\n",
      "       'tab_career_assistance', 'tab_job_opportunities', 'tab_student_support',\n",
      "       'view_programs_page', 'whatsapp_chat_click', 'app_complete_flag',\n",
      "       'city_tier'],\n",
      "      dtype='object')\n"
     ]
    }
   ],
   "source": [
    "test_with_pytest.test_map_city_tier()"
   ]
  },
  {
   "cell_type": "code",
   "execution_count": 4,
   "id": "beea7901-f0e7-4a5a-9431-e3178a708d81",
   "metadata": {},
   "outputs": [
    {
     "name": "stdout",
     "output_type": "stream",
     "text": [
      "map_categorical_vars completed\n",
      "Index(['created_date', 'first_platform_c', 'first_utm_medium_c',\n",
      "       'first_utm_source_c', 'total_leads_droppped', 'referred_lead',\n",
      "       '1_on_1_industry_mentorship', 'call_us_button_clicked',\n",
      "       'career_assistance', 'career_coach', 'career_impact', 'careers',\n",
      "       'chat_clicked', 'companies', 'download_button_clicked',\n",
      "       'download_syllabus', 'emi_partner_click', 'emi_plans_clicked',\n",
      "       'fee_component_click', 'hiring_partners',\n",
      "       'homepage_upgrad_support_number_clicked',\n",
      "       'industry_projects_case_studies', 'live_chat_button_clicked',\n",
      "       'payment_amount_toggle_mover', 'placement_support',\n",
      "       'placement_support_banner_tab_clicked', 'program_structure',\n",
      "       'programme_curriculum', 'programme_faculty',\n",
      "       'request_callback_on_instant_customer_support_cta_clicked',\n",
      "       'shorts_entry_click', 'social_referral_click',\n",
      "       'specialisation_tab_clicked', 'specializations', 'specilization_click',\n",
      "       'syllabus', 'syllabus_expand', 'syllabus_submodule_expand',\n",
      "       'tab_career_assistance', 'tab_job_opportunities', 'tab_student_support',\n",
      "       'view_programs_page', 'whatsapp_chat_click', 'app_complete_flag',\n",
      "       'city_tier'],\n",
      "      dtype='object')\n",
      "Index(['created_date', 'first_platform_c', 'first_utm_medium_c',\n",
      "       'first_utm_source_c', 'total_leads_droppped', 'referred_lead',\n",
      "       '1_on_1_industry_mentorship', 'call_us_button_clicked',\n",
      "       'career_assistance', 'career_coach', 'career_impact', 'careers',\n",
      "       'chat_clicked', 'companies', 'download_button_clicked',\n",
      "       'download_syllabus', 'emi_partner_click', 'emi_plans_clicked',\n",
      "       'fee_component_click', 'hiring_partners',\n",
      "       'homepage_upgrad_support_number_clicked',\n",
      "       'industry_projects_case_studies', 'live_chat_button_clicked',\n",
      "       'payment_amount_toggle_mover', 'placement_support',\n",
      "       'placement_support_banner_tab_clicked', 'program_structure',\n",
      "       'programme_curriculum', 'programme_faculty',\n",
      "       'request_callback_on_instant_customer_support_cta_clicked',\n",
      "       'shorts_entry_click', 'social_referral_click',\n",
      "       'specialisation_tab_clicked', 'specializations', 'specilization_click',\n",
      "       'syllabus', 'syllabus_expand', 'syllabus_submodule_expand',\n",
      "       'tab_career_assistance', 'tab_job_opportunities', 'tab_student_support',\n",
      "       'view_programs_page', 'whatsapp_chat_click', 'app_complete_flag',\n",
      "       'city_tier'],\n",
      "      dtype='object')\n"
     ]
    }
   ],
   "source": [
    "test_with_pytest.test_map_categorical_vars()"
   ]
  },
  {
   "cell_type": "code",
   "execution_count": 5,
   "id": "dc3484d9-9f8c-454c-b842-319aacafba65",
   "metadata": {},
   "outputs": [
    {
     "name": "stdout",
     "output_type": "stream",
     "text": [
      "interactions_mapping completed\n",
      "(100, 13)\n",
      "(100, 13)\n"
     ]
    }
   ],
   "source": [
    "test_with_pytest.test_interactions_mapping()"
   ]
  }
 ],
 "metadata": {
  "kernelspec": {
   "display_name": "Python 3 (ipykernel)",
   "language": "python",
   "name": "python3"
  },
  "language_info": {
   "codemirror_mode": {
    "name": "ipython",
    "version": 3
   },
   "file_extension": ".py",
   "mimetype": "text/x-python",
   "name": "python",
   "nbconvert_exporter": "python",
   "pygments_lexer": "ipython3",
   "version": "3.8.12"
  }
 },
 "nbformat": 4,
 "nbformat_minor": 5
}
