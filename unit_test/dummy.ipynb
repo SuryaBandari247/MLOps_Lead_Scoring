{
 "cells": [
  {
   "cell_type": "code",
   "execution_count": 1,
   "id": "e650c804-d6c1-4c8c-8d4e-af4053d10a73",
   "metadata": {},
   "outputs": [],
   "source": [
    "import utils\n",
    "import sqlite3\n",
    "import pandas as pd\n",
    "\n",
    "import warnings\n",
    "warnings.filterwarnings(\"ignore\")"
   ]
  },
  {
   "cell_type": "markdown",
   "id": "9b6858da-c4c1-4982-a082-75d1c3a0a9ea",
   "metadata": {},
   "source": [
    "import importlib\n",
    "importlib.reload(utils)"
   ]
  },
  {
   "cell_type": "markdown",
   "id": "68248be3-7cc4-42f4-b35c-f9d3a54e2dac",
   "metadata": {},
   "source": [
    "conn = sqlite3.connect('/home/Assignment/01_data_pipeline/scripts/utils_output.db')"
   ]
  },
  {
   "cell_type": "markdown",
   "id": "7a1dc949-4883-4141-b438-fe0abe6c6431",
   "metadata": {},
   "source": [
    "cursor = conn.cursor()\n",
    "cursor.execute(\"SELECT name FROM sqlite_master \")\n",
    "result = cursor.fetchone()"
   ]
  },
  {
   "cell_type": "markdown",
   "id": "08f3fd20-b879-43ce-a010-d983bbecc975",
   "metadata": {},
   "source": [
    "print(result)"
   ]
  },
  {
   "cell_type": "code",
   "execution_count": 2,
   "id": "8f5dc3db-bf1b-42e5-871a-44a2492f83b7",
   "metadata": {},
   "outputs": [
    {
     "name": "stdout",
     "output_type": "stream",
     "text": [
      "Creating Database\n",
      "New DB Created\n",
      "load_data_into_db completed\n",
      "map_city_tier completed\n",
      "map_categorical_vars completed\n",
      "interactions_mapping completed\n"
     ]
    }
   ],
   "source": [
    "utils.build_dbs()\n",
    "utils.load_data_into_db()\n",
    "utils.map_city_tier()\n",
    "utils.map_categorical_vars() \n",
    "utils.interactions_mapping()"
   ]
  },
  {
   "cell_type": "markdown",
   "id": "3bd4a020-dac0-419b-9763-b8c1d016a8d0",
   "metadata": {},
   "source": [
    "utils.interactions_mapping()"
   ]
  }
 ],
 "metadata": {
  "kernelspec": {
   "display_name": "Python 3 (ipykernel)",
   "language": "python",
   "name": "python3"
  },
  "language_info": {
   "codemirror_mode": {
    "name": "ipython",
    "version": 3
   },
   "file_extension": ".py",
   "mimetype": "text/x-python",
   "name": "python",
   "nbconvert_exporter": "python",
   "pygments_lexer": "ipython3",
   "version": "3.8.12"
  }
 },
 "nbformat": 4,
 "nbformat_minor": 5
}
